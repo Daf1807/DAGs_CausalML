{
 "cells": [
  {
   "cell_type": "markdown",
   "id": "b553a0dd-cffa-4b5d-99e9-e5a293be3a92",
   "metadata": {},
   "source": [
    "## Part 1b - Simpson's paradox\n",
    "\n",
    "Let’s imagine we are in a laboratory and want to test the effectiveness of a new treatment for a disease that affects both humans and dogs. Our goal is to see whether the treatment helps improve the chances of survival.\n",
    "\n",
    "In the experiment, we treat one dog and four people. After the treatment, the dog and one person survive, while the other three people die. In the group that does not receive treatment, there are four dogs and one person; of these, three dogs recover, but one dog and the person die.\n",
    "\n",
    "If we look at the results by species, the treatment seems effective. Among the treated dogs, 100% survive, while 75% of the untreated dogs recover. Among the treated humans, 25% survive, while none of the untreated humans survive. In both cases, the treatment appears to increase the chances of recovery.\n",
    "\n",
    "However, when all the data are combined, the interpretation changes. Across all treated dogs and humans, only 40% survive, while among the untreated group, 60% recover. This gives the impression that the treatment actually worsens the chances of survival.\n",
    "\n",
    "The reason for this apparent contradiction requires analyzing the context. It is possible that the disease is more severe in humans, making them more likely to receive treatment. Therefore, even though the treatment increases the chances of survival, the treated humans had a higher risk from the start. Additionally, if humans have greater access to treatment than dogs, the overall results reflect this difference in distribution rather than the true effectiveness of the treatment.\n",
    "\n",
    "This example illustrates Simpson’s Paradox, where the combined results of several groups can show a trend opposite to what is observed within each group. To correctly interpret the data, it is essential to consider the context and the causal factors influencing the outcomes."
   ]
  },
  {
   "cell_type": "code",
   "execution_count": null,
   "id": "44a26daa-842d-45ec-9959-77bab02e44ee",
   "metadata": {},
   "outputs": [],
   "source": [
    "# Versión completa en R de la simulación de la paradoja de Simpson\n",
    "\n",
    "# Instalar y cargar librerías necesarias\n",
    "if(!require(ggplot2)) install.packages(\"ggplot2\", dependencies = TRUE)\n",
    "library(ggplot2)\n",
    "\n",
    "# Semilla para reproducibilidad\n",
    "set.seed(42)\n",
    "\n",
    "# Simulación de datos\n",
    "n <- 50\n",
    "\n",
    "# Grupo A (relación positiva)\n",
    "x_a <- runif(n, 1, 5)\n",
    "y_a <- 2 + 1.0 * x_a + rnorm(n, 0, 1)\n",
    "group_a <- data.frame(x = x_a, y = y_a, group = \"A\")\n",
    "\n",
    "# Grupo B (relación positiva, desplazado en eje X, intercepto más bajo)\n",
    "x_b <- runif(n, 4, 8)\n",
    "y_b <- -4 + 1.0 * x_b + rnorm(n, 0, 1)\n",
    "group_b <- data.frame(x = x_b, y = y_b, group = \"B\")\n",
    "\n",
    "# Combinar datos\n",
    "data <- rbind(group_a, group_b)\n",
    "\n",
    "# Ajustar modelos lineales\n",
    "model_a <- lm(y ~ x, data = subset(data, group == \"A\"))\n",
    "model_b <- lm(y ~ x, data = subset(data, group == \"B\"))\n",
    "model_all <- lm(y ~ x, data = data)\n",
    "\n",
    "# Preparar datos para líneas de regresión\n",
    "x_vals <- seq(min(data$x), max(data$x), length.out = 100)\n",
    "y_pred_a <- predict(model_a, newdata = data.frame(x = x_vals))\n",
    "y_pred_b <- predict(model_b, newdata = data.frame(x = x_vals))\n",
    "y_pred_all <- predict(model_all, newdata = data.frame(x = x_vals))\n",
    "\n",
    "# Graficar\n",
    "plot <- ggplot(data, aes(x = x, y = y, color = group)) +\n",
    "  geom_point(alpha = 0.7) +\n",
    "  geom_line(aes(x = x_vals, y = y_pred_a), color = \"red\", inherit.aes = FALSE) +\n",
    "  geom_line(aes(x = x_vals, y = y_pred_b), color = \"blue\", inherit.aes = FALSE) +\n",
    "  geom_line(aes(x = x_vals, y = y_pred_all), color = \"black\", linetype = \"dashed\", inherit.aes = FALSE) +\n",
    "  labs(title = \"Paradoja de Simpson: positiva en grupos, negativa en total\",\n",
    "       x = \"X (Variable explicativa)\",\n",
    "       y = \"Y (Resultado)\") +\n",
    "  theme_minimal()\n",
    "\n",
    "print(plot)\n",
    "\n",
    "# Mostrar pendientes de cada modelo\n",
    "cat(\"Pendiente Grupo A:\", round(coef(model_a)[2], 3), \"\\n\")\n",
    "cat(\"Pendiente Grupo B:\", round(coef(model_b)[2], 3), \"\\n\")\n",
    "cat(\"Pendiente Global:\", round(coef(model_all)[2], 3), \"\\n\")"
   ]
  },
  {
   "cell_type": "code",
   "execution_count": null,
   "id": "db365380-a52d-420d-80d1-de9532acd325",
   "metadata": {},
   "outputs": [],
   "source": []
  }
 ],
 "metadata": {
  "kernelspec": {
   "display_name": "R [conda env:r_enviroment]",
   "language": "R",
   "name": "conda-env-r_enviroment-r"
  },
  "language_info": {
   "name": ""
  }
 },
 "nbformat": 4,
 "nbformat_minor": 5
}
